{
  "nbformat": 4,
  "nbformat_minor": 0,
  "metadata": {
    "colab": {
      "name": "Coding journal prompt 2",
      "provenance": [],
      "collapsed_sections": []
    },
    "kernelspec": {
      "name": "python3",
      "display_name": "Python 3"
    },
    "language_info": {
      "name": "python"
    }
  },
  "cells": [
    {
      "cell_type": "code",
      "execution_count": 10,
      "metadata": {
        "colab": {
          "base_uri": "https://localhost:8080/"
        },
        "id": "V_z5p6LfTBFg",
        "outputId": "5d1e6fa0-25bd-4a56-c5e8-7416d6543bc4"
      },
      "outputs": [
        {
          "output_type": "stream",
          "name": "stdout",
          "text": [
            "<class 'float'>\n",
            "x + y =  16.0\n",
            "<class 'int'>\n",
            "x - y = -10\n",
            "<class 'float'>\n",
            "x * z = 210.0\n"
          ]
        }
      ],
      "source": [
        "s = 10\n",
        "x = 10.5\n",
        "y = 5.5\n",
        "z = 20\n",
        "\n",
        "sum = (x + y)\n",
        "print(type(sum))\n",
        "print(\"x + y = \", sum) #sum of two floating point integer\n",
        "difference =  (s-z)\n",
        "print(type(difference))\n",
        "print(\"x - y =\", difference) #difference between two integers \n",
        "\n",
        "product = (x * z)\n",
        "print(type(product))\n",
        "print(\"x * z =\", product)\n"
      ]
    }
  ]
}